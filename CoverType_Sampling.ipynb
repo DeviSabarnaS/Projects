{
  "nbformat": 4,
  "nbformat_minor": 0,
  "metadata": {
    "colab": {
      "name": "CoverType_Sampling.ipynb",
      "provenance": []
    },
    "kernelspec": {
      "name": "python3",
      "display_name": "Python 3"
    },
    "language_info": {
      "name": "python"
    }
  },
  "cells": [
    {
      "cell_type": "code",
      "execution_count": null,
      "metadata": {
        "id": "y5P08seM5bY3"
      },
      "outputs": [],
      "source": [
        "import gzip\n",
        "import pandas as pd"
      ]
    },
    {
      "cell_type": "markdown",
      "source": [
        "##### Downloading dataset from https://archive.ics.uci.edu/ml/machine-learning-databases/covtype/covtype.data.gz\n",
        "\n",
        "The task is classify the forest covertype based on the given attributes"
      ],
      "metadata": {
        "id": "Cs_JLglL62zJ"
      }
    },
    {
      "cell_type": "code",
      "source": [
        "import requests\n",
        "url='https://archive.ics.uci.edu/ml/machine-learning-databases/covtype/covtype.data.gz'\n",
        "filename=url.split(\"/\")[-1]\n",
        "with open(filename,'wb') as f:\n",
        "  r=requests.get(url)\n",
        "  f.write(r.content)"
      ],
      "metadata": {
        "id": "ATr8DM1h5g9H"
      },
      "execution_count": null,
      "outputs": []
    },
    {
      "cell_type": "code",
      "source": [
        "colnames=['Elevation','Aspect','Slope','Horizontal_Distance_To_Hydrology','Vertical_Distance_To_Hydrology','Horizontal_Distance_To_Roadways','Hillshade_9am','Hillshade_Noon','Hillshade_3pm','Horizontal_Distance_To_Fire_Points','Wilderness_Area1','Wilderness_Area2','Wilderness_Area3','Wilderness_Area4','Soil_1',\n",
        " 'Soil_2',\n",
        " 'Soil_3',\n",
        " 'Soil_4',\n",
        " 'Soil_5',\n",
        " 'Soil_6',\n",
        " 'Soil_7',\n",
        " 'Soil_8',\n",
        " 'Soil_9',\n",
        " 'Soil_10',\n",
        " 'Soil_11',\n",
        " 'Soil_12',\n",
        " 'Soil_13',\n",
        " 'Soil_14',\n",
        " 'Soil_15',\n",
        " 'Soil_16',\n",
        " 'Soil_17',\n",
        " 'Soil_18',\n",
        " 'Soil_19',\n",
        " 'Soil_20',\n",
        " 'Soil_21',\n",
        " 'Soil_22',\n",
        " 'Soil_23',\n",
        " 'Soil_24',\n",
        " 'Soil_25',\n",
        " 'Soil_26',\n",
        " 'Soil_27',\n",
        " 'Soil_28',\n",
        " 'Soil_29',\n",
        " 'Soil_30',\n",
        " 'Soil_31',\n",
        " 'Soil_32',\n",
        " 'Soil_33',\n",
        " 'Soil_34',\n",
        " 'Soil_35',\n",
        " 'Soil_36',\n",
        " 'Soil_37',\n",
        " 'Soil_38',\n",
        " 'Soil_39',\n",
        " 'Soil_40','Cover_Type']"
      ],
      "metadata": {
        "id": "dNz8WeEG_wRU"
      },
      "execution_count": null,
      "outputs": []
    },
    {
      "cell_type": "code",
      "source": [
        "with gzip.open('covtype.data.gz','rb') as f:\n",
        "  df=pd.read_csv(f,sep=',',header=None,names=colnames)"
      ],
      "metadata": {
        "id": "B4rPaNOK546J"
      },
      "execution_count": null,
      "outputs": []
    },
    {
      "cell_type": "code",
      "source": [
        "df.shape\n"
      ],
      "metadata": {
        "colab": {
          "base_uri": "https://localhost:8080/"
        },
        "id": "Rb2h8Bm56HUY",
        "outputId": "08d13f49-ae46-4da6-b349-b730d68e6467"
      },
      "execution_count": null,
      "outputs": [
        {
          "output_type": "execute_result",
          "data": {
            "text/plain": [
              "(581012, 55)"
            ]
          },
          "metadata": {},
          "execution_count": 17
        }
      ]
    },
    {
      "cell_type": "code",
      "source": [
        "dataset=df.sample(200000,random_state=1)"
      ],
      "metadata": {
        "id": "b6pvxECU8KlE"
      },
      "execution_count": null,
      "outputs": []
    },
    {
      "cell_type": "code",
      "source": [
        "dataset.to_csv('CoverType.csv',index=False)"
      ],
      "metadata": {
        "id": "beSN4381GE4B"
      },
      "execution_count": null,
      "outputs": []
    },
    {
      "cell_type": "code",
      "source": [
        ""
      ],
      "metadata": {
        "id": "3pIsVaxaGMyZ"
      },
      "execution_count": null,
      "outputs": []
    }
  ]
}